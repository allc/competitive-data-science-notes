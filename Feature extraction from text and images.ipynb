{
 "cells": [
  {
   "cell_type": "markdown",
   "metadata": {},
   "source": [
    "# Feature extraction from text and images\n",
    "\n",
    "> Guided by Coursera course \"[How to Win a Data Science Competition: Learn from Top Kagglers](https://www.coursera.org/learn/competitive-data-science)\".\n",
    "\n",
    "## Bag of words\n",
    "\n",
    "### Text -> vector\n",
    "\n",
    "- Bag of words\n",
    "\n",
    "  `sklearn.feature_extraction.text.CountVctorizer`\n",
    "  \n",
    "- Embeddings (~word2vec)\n",
    "\n",
    "### Bag of words\n",
    "\n",
    "- TFiDF\n",
    "- Texts preprocessing\n",
    "  - Lowercase\n",
    "  - Lemmatization\n",
    "  - Stemming\n",
    "  - Stopwords\n",
    "  \n",
    "## Word2vec, CNN\n",
    "\n",
    "### BOW and w2v comparison\n",
    "\n",
    "- Bag of words\n",
    "  - Very large vectors\n",
    "  - Meaning of each value in vector is known\n",
    "- Word2vec\n",
    "  - Relatively small vectors\n",
    "  - Values in vector can be interpreted only in some cases\n",
    "  - The words with similar meaning often have similar embeddings"
   ]
  }
 ],
 "metadata": {
  "kernelspec": {
   "display_name": "Python 3",
   "language": "python",
   "name": "python3"
  },
  "language_info": {
   "codemirror_mode": {
    "name": "ipython",
    "version": 3
   },
   "file_extension": ".py",
   "mimetype": "text/x-python",
   "name": "python",
   "nbconvert_exporter": "python",
   "pygments_lexer": "ipython3",
   "version": "3.7.3"
  }
 },
 "nbformat": 4,
 "nbformat_minor": 2
}
